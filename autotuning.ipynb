{
  "nbformat": 4,
  "nbformat_minor": 0,
  "metadata": {
    "colab": {
      "name": "Untitled1.ipynb",
      "version": "0.3.2",
      "provenance": [],
      "include_colab_link": true
    },
    "kernelspec": {
      "name": "python3",
      "display_name": "Python 3"
    }
  },
  "cells": [
    {
      "cell_type": "markdown",
      "metadata": {
        "id": "view-in-github",
        "colab_type": "text"
      },
      "source": [
        "<a href=\"https://colab.research.google.com/github/dcruzsteven/autotuning/blob/master/autotuning.ipynb\" target=\"_parent\"><img src=\"https://colab.research.google.com/assets/colab-badge.svg\" alt=\"Open In Colab\"/></a>"
      ]
    },
    {
      "metadata": {
        "id": "dBWGXwLURbxJ",
        "colab_type": "text"
      },
      "cell_type": "markdown",
      "source": [
        "# **Automated Hyperparameter Tuning**"
      ]
    },
    {
      "metadata": {
        "id": "R3MoORiSR4sj",
        "colab_type": "text"
      },
      "cell_type": "markdown",
      "source": [
        "## Installation of Required Dependencies"
      ]
    },
    {
      "metadata": {
        "id": "EFPS5uRkSNQj",
        "colab_type": "code",
        "colab": {}
      },
      "cell_type": "code",
      "source": [
        "# Download and install kaggle and xgboost\n",
        "!pip install kaggle\n",
        "!pip install xgboost\n",
        "!pip install sklearn"
      ],
      "execution_count": 0,
      "outputs": []
    },
    {
      "metadata": {
        "id": "FYIV34dyR5OT",
        "colab_type": "text"
      },
      "cell_type": "markdown",
      "source": [
        "## Required Imports and Library Definitions"
      ]
    },
    {
      "metadata": {
        "id": "FgnlfhVtSAY6",
        "colab_type": "code",
        "colab": {}
      },
      "cell_type": "code",
      "source": [
        "import os # Library for operating system manipulation\n",
        "import numpy as np # Library for processing numeric vectors\n",
        "import imageio # Library for dealing with images\n",
        "import matplotlib.pyplot as plt # Library for plotting images\n",
        "import pandas as pd # Library for pandas dataframe support\n",
        "from google.colab import files # Library for colab file upload/download\n",
        "import xgboost as xgb # Library for gradient-boosted trees\n",
        "from sklearn.model_selection import KFold # Function for k-fold CV\n",
        "from sklearn.model_selection import cross_val_score # Function for CV assessment\n",
        "from sklearn.model_selection import train_test_split # Function for partitioning data"
      ],
      "execution_count": 0,
      "outputs": []
    },
    {
      "metadata": {
        "id": "oykp4zLLUDSm",
        "colab_type": "text"
      },
      "cell_type": "markdown",
      "source": [
        "## Process Kaggle Credentials"
      ]
    },
    {
      "metadata": {
        "id": "oeaLmhXAXGBU",
        "colab_type": "text"
      },
      "cell_type": "markdown",
      "source": [
        "### Specify kaggle.json (downloaded from Kaggle Profile)"
      ]
    },
    {
      "metadata": {
        "id": "cXk2UPRXTbC7",
        "colab_type": "code",
        "colab": {}
      },
      "cell_type": "code",
      "source": [
        "# Must search for kaggle.json file downloaded from Kaggle profile\n",
        "files.upload()"
      ],
      "execution_count": 0,
      "outputs": []
    },
    {
      "metadata": {
        "id": "mw1KQQUBXLZn",
        "colab_type": "text"
      },
      "cell_type": "markdown",
      "source": [
        "### Configure Kaggle Environment\n",
        "\n",
        "For the purpose of this auto-tuning a really old house price\n",
        "dataset (meant for regression exploration) will be used.  In\n",
        "order to download the data one must first register for the\n",
        "competition using the Kaggle account associated with the\n",
        "kaggle.json file above"
      ]
    },
    {
      "metadata": {
        "id": "RUOrBZ-nVQt2",
        "colab_type": "code",
        "colab": {}
      },
      "cell_type": "code",
      "source": [
        "# Construct .kaggle subdirectory (required by the kaggle python library)\n",
        "!mkdir -p ~/.kaggle\n",
        "# Move downloaded kaggle.json file to .kaggle directory\n",
        "!mv kaggle.json ~/.kaggle/\n",
        "# Change permissions on file\n",
        "!chmod 600 /root/.kaggle/kaggle.json\n",
        "# Download kaggle competition\n",
        "!kaggle competitions download -c house-prices-advanced-regression-techniques"
      ],
      "execution_count": 0,
      "outputs": []
    },
    {
      "metadata": {
        "id": "LBxxnIybavcW",
        "colab_type": "text"
      },
      "cell_type": "markdown",
      "source": [
        "## Necessary Data Manipulation"
      ]
    },
    {
      "metadata": {
        "id": "C8OoqwnicUK3",
        "colab_type": "text"
      },
      "cell_type": "markdown",
      "source": [
        "### Process Raw Data"
      ]
    },
    {
      "metadata": {
        "id": "WpWyuHHzjWzj",
        "colab_type": "code",
        "colab": {}
      },
      "cell_type": "code",
      "source": [
        "# Import raw dataset\n",
        "rawData = pd.read_csv(\"train.csv\")\n",
        "# Remove entries with missing sale prices\n",
        "rawData = rawData[~rawData.SalePrice.isna()]\n",
        "# Extract labels\n",
        "dataLabels = rawData['SalePrice']\n",
        "# Extract features#(['SalePrice'], axis=1)"
      ],
      "execution_count": 0,
      "outputs": []
    },
    {
      "metadata": {
        "id": "1k6NSPPVnpBa",
        "colab_type": "text"
      },
      "cell_type": "markdown",
      "source": [
        "### Partition Raw Data"
      ]
    },
    {
      "metadata": {
        "id": "I1ek1aT5rvQv",
        "colab_type": "code",
        "colab": {}
      },
      "cell_type": "code",
      "source": [
        "# Construct Training+Validation and Test Partitions\n",
        "dataFeaturesTrainValid, dataFeaturesTest, \\\n",
        "dataLabelsTrainValid,  dataLabelsTest = train_test_split(dataFeatures.as_matrix(), dataLabels.as_matrix(), test_size=0.15)"
      ],
      "execution_count": 0,
      "outputs": []
    },
    {
      "metadata": {
        "id": "nj1r_qG7r_WP",
        "colab_type": "text"
      },
      "cell_type": "markdown",
      "source": [
        "##Construct Model Template"
      ]
    },
    {
      "metadata": {
        "id": "Icd55iEvyqhd",
        "colab_type": "text"
      },
      "cell_type": "markdown",
      "source": [
        "### Define Objective Function (for Auto-Tuner to Minimize)\n",
        "\n"
      ]
    },
    {
      "metadata": {
        "id": "fKlfh1ony5bI",
        "colab_type": "code",
        "colab": {}
      },
      "cell_type": "code",
      "source": [
        "def objective():\n",
        "  \"\"\"\n",
        "  Construct the objective function for the optimizer to minimize\n",
        "  \"\"\""
      ],
      "execution_count": 0,
      "outputs": []
    },
    {
      "metadata": {
        "id": "tEvrSN69ldsd",
        "colab_type": "code",
        "colab": {}
      },
      "cell_type": "code",
      "source": [
        "rawData[:5]"
      ],
      "execution_count": 0,
      "outputs": []
    },
    {
      "metadata": {
        "id": "UzVJtdZFYJvu",
        "colab_type": "code",
        "colab": {}
      },
      "cell_type": "code",
      "source": [
        "!cat data_description.txt"
      ],
      "execution_count": 0,
      "outputs": []
    },
    {
      "metadata": {
        "id": "24LtRKTGcfjy",
        "colab_type": "code",
        "colab": {}
      },
      "cell_type": "code",
      "source": [
        ""
      ],
      "execution_count": 0,
      "outputs": []
    },
    {
      "metadata": {
        "id": "oVCzQ5dscf7K",
        "colab_type": "code",
        "colab": {}
      },
      "cell_type": "code",
      "source": [
        ""
      ],
      "execution_count": 0,
      "outputs": []
    }
  ]
}